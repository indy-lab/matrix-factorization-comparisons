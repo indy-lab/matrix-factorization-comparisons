{
 "cells": [
  {
   "cell_type": "markdown",
   "metadata": {},
   "source": [
    "## Code for Figure 2 in the ICML 2025 paper\n",
    "## Recommendations from Sparse Comparison Data: \n",
    "## Provably Fast Convergence for Nonconvex Matrix Factorization"
   ]
  },
  {
   "cell_type": "markdown",
   "metadata": {},
   "source": [
    "### The bulk of the code lies in the accompanying .py files"
   ]
  },
  {
   "cell_type": "code",
   "execution_count": null,
   "metadata": {},
   "outputs": [],
   "source": [
    "import numpy as np\n",
    "import torch\n",
    "torch.manual_seed(0)\n",
    "# Detect and set device\n",
    "device = torch.device(\"cuda\" if torch.cuda.is_available() else \"cpu\")\n",
    "print(f\"Using device: {device}\")"
   ]
  },
  {
   "cell_type": "code",
   "execution_count": null,
   "metadata": {},
   "outputs": [],
   "source": [
    "n_1 = 2000 # number of users\n",
    "n_2 = 3000 # number of items\n",
    "r_range = [2, 3, 4, 5, 6] # rank of the matrix factorization\n",
    "m_range = [30000, 40000, 50000, 60000, 70000, 80000, 90000, 100000] # number of observations\n",
    "num_runs = 10 # number of runs\n",
    "num_epochs = 300 # number of epochs\n",
    "lr = 0.001 # learning rate"
   ]
  },
  {
   "cell_type": "code",
   "execution_count": null,
   "metadata": {},
   "outputs": [],
   "source": [
    "from experiments import sample_complexity_with_rank\n",
    "errors = sample_complexity_with_rank(n_1, n_2, r_range, m_range, num_runs, num_epochs, lr, device, plot=True)"
   ]
  },
  {
   "cell_type": "code",
   "execution_count": null,
   "metadata": {},
   "outputs": [],
   "source": [
    "np.save(\"sample_complexity_with_rank.npy\", errors)"
   ]
  }
 ],
 "metadata": {
  "kernelspec": {
   "display_name": "Python 3",
   "language": "python",
   "name": "python3"
  },
  "language_info": {
   "codemirror_mode": {
    "name": "ipython",
    "version": 3
   },
   "file_extension": ".py",
   "mimetype": "text/x-python",
   "name": "python",
   "nbconvert_exporter": "python",
   "pygments_lexer": "ipython3",
   "version": "3.9.6"
  }
 },
 "nbformat": 4,
 "nbformat_minor": 2
}
